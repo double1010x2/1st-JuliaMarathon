{
 "cells": [
  {
   "cell_type": "code",
   "execution_count": 8,
   "metadata": {},
   "outputs": [],
   "source": [
    "import GPy\n",
    "import numpy as np\n",
    "\n",
    "dim = 10\n",
    "\n",
    "XY_data = np.genfromtxt(\"simdata.csv\", delimiter=\",\", skip_header=1)\n",
    "X = XY_data[:, 0:dim]\n",
    "Y = XY_data[:, dim:dim+1]"
   ]
  },
  {
   "cell_type": "code",
   "execution_count": 9,
   "metadata": {},
   "outputs": [],
   "source": [
    "import timeit"
   ]
  },
  {
   "cell_type": "code",
   "execution_count": 10,
   "metadata": {},
   "outputs": [],
   "source": [
    "kern = GPy.kern # shorter\n",
    "common_kwargs = {\"lengthscale\": 1.0, \"variance\": 1.0}\n",
    "kerns = {\n",
    "    \"se\": kern.RBF(dim, **common_kwargs),\n",
    "    \"mat12\": kern.Exponential(dim, **common_kwargs),\n",
    "    \"rq\": kern.RatQuad(dim, power=1.0, **common_kwargs),\n",
    "    \"se+rq\":   kern.RBF(dim, **common_kwargs)\n",
    "             + kern.RatQuad(dim, power=1.0, **common_kwargs),\n",
    "    \"se*rq\":   kern.RBF(dim, **common_kwargs)\n",
    "             * kern.RatQuad(dim, power=1.0, **common_kwargs),\n",
    "    \"se+se2+rq\":   kern.RBF(dim, **common_kwargs)\n",
    "                 + kern.RBF(dim, **common_kwargs)\n",
    "                 + kern.RatQuad(dim, power=1.0, **common_kwargs),\n",
    "    \"(se+se2)*rq\": (kern.RBF(dim, **common_kwargs)\n",
    "                    +kern.RBF(dim, **common_kwargs)\n",
    "                   ) * \n",
    "                   kern.RatQuad(dim, power=1.0, **common_kwargs),\n",
    "    \"mask(se, [1])\": kern.RBF(1, active_dims=[0], **common_kwargs),\n",
    "    \"mask(se, [1])+mask(rq, [2:10])\":    kern.RBF(1, active_dims=[0], **common_kwargs)  \n",
    "                                    + kern.RatQuad(dim-1, power=1.0, active_dims=range(1,dim), **common_kwargs),\n",
    "}\n",
    "sefix = kern.RBF(2, **common_kwargs)\n",
    "sefix.variance.fix()\n",
    "kerns[\"fix(se, σ)\"] = sefix"
   ]
  },
  {
   "cell_type": "code",
   "execution_count": 11,
   "metadata": {},
   "outputs": [
    {
     "name": "stderr",
     "output_type": "stream",
     "text": [
      " /Users/imolk/bin/venv_python3/lib/python3.6/site-packages/GPy/core/gp.py:87: UserWarning:Your kernel has a different input dimension 1 then the given X dimension 10. Be very sure this is what you want and you have not forgotten to set the right input dimenion in your kernel\n",
      " /Users/imolk/bin/venv_python3/lib/python3.6/site-packages/GPy/core/gp.py:87: UserWarning:Your kernel has a different input dimension 2 then the given X dimension 10. Be very sure this is what you want and you have not forgotten to set the right input dimenion in your kernel\n"
     ]
    }
   ],
   "source": [
    "mintimes = {}\n",
    "for (label, k) in kerns.items():\n",
    "    import gc\n",
    "    gc.collect()\n",
    "    gp = GPy.models.GPRegression(X, Y, k, noise_var=1.0)\n",
    "    gc.collect()\n",
    "    times = timeit.repeat(\"gp.parameters_changed()\", setup=\"from __main__ import gp;gc.collect()\", repeat=10, number=1)\n",
    "    gc.collect()\n",
    "    mintimes[label] = np.min(times)"
   ]
  },
  {
   "cell_type": "code",
   "execution_count": 12,
   "metadata": {},
   "outputs": [
    {
     "name": "stdout",
     "output_type": "stream",
     "text": [
      "                            se: 1225.1\n",
      "                         mat12: 1253.7\n",
      "                            rq: 1845.1\n",
      "                         se+rq: 1937.0\n",
      "                         se*rq: 1929.4\n",
      "                     se+se2+rq: 1952.9\n",
      "                   (se+se2)*rq: 2041.8\n",
      "                 mask(se, [1]): 1327.3\n",
      "mask(se, [1])+mask(rq, [2:10]): 1893.2\n",
      "                    fix(se, σ): 1254.6\n"
     ]
    }
   ],
   "source": [
    "for k in mintimes.keys():\n",
    "    print(\"%30s: %4.1f\" % (k, mintimes[k]*1000.0))"
   ]
  },
  {
   "cell_type": "code",
   "execution_count": 13,
   "metadata": {},
   "outputs": [],
   "source": [
    "with open(\"bench_results/GPy.csv\", \"w\") as f:\n",
    "    for k,v in mintimes.items():\n",
    "        f.write(\"\\\"%s\\\",%f\\n\" % (k,v*1000))"
   ]
  },
  {
   "cell_type": "code",
   "execution_count": 14,
   "metadata": {},
   "outputs": [],
   "source": [
    "# look at results for SE kernel\n",
    "k = kerns[\"se\"]\n",
    "gp = GPy.models.GPRegression(X, Y, k, noise_var=1.0)\n",
    "gp.parameters_changed()"
   ]
  },
  {
   "cell_type": "code",
   "execution_count": 16,
   "metadata": {},
   "outputs": [
    {
     "data": {
      "text/plain": [
       "-4536.256464728389"
      ]
     },
     "execution_count": 16,
     "metadata": {},
     "output_type": "execute_result"
    }
   ],
   "source": [
    "gp.log_likelihood()"
   ]
  },
  {
   "cell_type": "code",
   "execution_count": 17,
   "metadata": {},
   "outputs": [
    {
     "data": {
      "text/plain": [
       "array([-333.63382889,   71.19489186, -344.81594615])"
      ]
     },
     "execution_count": 17,
     "metadata": {},
     "output_type": "execute_result"
    }
   ],
   "source": [
    "gp.gradient"
   ]
  }
 ],
 "metadata": {
  "hide_input": false,
  "hide_markdown_input": false,
  "kernelspec": {
   "display_name": "python3 venv",
   "language": "python",
   "name": "python3"
  },
  "language_info": {
   "codemirror_mode": {
    "name": "ipython",
    "version": 3
   },
   "file_extension": ".py",
   "mimetype": "text/x-python",
   "name": "python",
   "nbconvert_exporter": "python",
   "pygments_lexer": "ipython3",
   "version": "3.6.5"
  },
  "nav_menu": {},
  "toc": {
   "nav_menu": {},
   "number_sections": true,
   "sideBar": true,
   "skip_h1_title": false,
   "title_cell": "Table of Contents",
   "title_sidebar": "Contents",
   "toc_cell": false,
   "toc_position": {},
   "toc_section_display": "block",
   "toc_window_display": false
  }
 },
 "nbformat": 4,
 "nbformat_minor": 1
}
