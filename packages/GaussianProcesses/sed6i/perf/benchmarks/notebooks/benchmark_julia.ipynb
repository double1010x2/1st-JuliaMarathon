{
 "cells": [
  {
   "cell_type": "code",
   "execution_count": 1,
   "metadata": {},
   "outputs": [],
   "source": [
    "using GaussianProcesses\n",
    "using GaussianProcesses: update_mll_and_dmll!, update_cK!\n",
    "using BenchmarkTools\n",
    "using DataFrames\n",
    "using JLD\n",
    "\n",
    "const d = 10        # Input observation dimension\n",
    "const nt = 3000     # Number of training points\n",
    "\n",
    "kerns = Dict(\n",
    "    \"se\" => SEIso(0.0,0.0),\n",
    "    \"mat12\" => Mat12Iso(0.0,0.0),\n",
    "    \"rq\" => RQIso(0.0,0.0,0.0),\n",
    "    \"se+rq\" => SEIso(0.0,0.0) + RQIso(0.0,0.0,0.0),\n",
    "    \"se*rq\" => SEIso(0.0,0.0) * RQIso(0.0,0.0,0.0),\n",
    "    \"se+se2+rq\" => SEIso(0.0,0.0) + SEIso(0.5,0.5) + RQIso(0.0,0.0,0.0),\n",
    "    \"(se+se2)*rq\" => (SEIso(0.0,0.0) + SEIso(0.5,0.5)) * RQIso(0.0,0.0,0.0),\n",
    "    \"mask(se, [1])\" => Masked(SEIso(0.0,0.0), [1]),\n",
    "    \"mask(se, [1])+mask(rq, [2:10])\" =>  Masked(SEIso(0.0,0.0), [1]) +  Masked(RQIso(0.0,0.0,0.0), collect(2:10)),\n",
    "    \"fix(se, σ)\" => fix(SEIso(0.0,0.0), :lσ)\n",
    "    )\n",
    "    \n",
    "function benchmark_kernel(group, kern)\n",
    "    srand(1)\n",
    "    X = randn(d, nt) # Training data\n",
    "    Y = randn(nt)\n",
    "    buf1=Array{Float64}(nt,nt)\n",
    "    buf2=Array{Float64}(nt,nt)\n",
    "    gp = GP(X, Y, MeanConst(0.0), kern, log(1.0))\n",
    "    group[\"cK\"] = @benchmarkable update_cK!($gp)\n",
    "    group[\"mll_and_dmll\"] = @benchmarkable update_mll_and_dmll!($gp, $buf1, $buf2)\n",
    "end\n",
    "\n",
    "SUITE = BenchmarkGroup()\n",
    "\n",
    "for (label, k) in kerns\n",
    "    SUITE[label] = BenchmarkGroup([label])\n",
    "    benchmark_kernel(SUITE[label], k)\n",
    "end\n",
    ";"
   ]
  },
  {
   "cell_type": "code",
   "execution_count": 2,
   "metadata": {},
   "outputs": [],
   "source": [
    "results = run(SUITE, verbose=false, seconds=1000, samples=10, evals=1)\n",
    ";"
   ]
  },
  {
   "cell_type": "code",
   "execution_count": 3,
   "metadata": {},
   "outputs": [
    {
     "name": "stdout",
     "output_type": "stream",
     "text": [
      "10×2 DataFrames.DataFrame\n",
      "│ Row │ kernel                         │ times   │\n",
      "├─────┼────────────────────────────────┼─────────┤\n",
      "│ 1   │ (se+se2)*rq                    │ 4445.29 │\n",
      "│ 2   │ fix(se, σ)                     │ 796.74  │\n",
      "│ 3   │ mask(se, [1])                  │ 928.841 │\n",
      "│ 4   │ mask(se, [1])+mask(rq, [2:10]) │ 1817.31 │\n",
      "│ 5   │ mat12                          │ 920.966 │\n",
      "│ 6   │ rq                             │ 1359.79 │\n",
      "│ 7   │ se                             │ 895.128 │\n",
      "│ 8   │ se*rq                          │ 2693.16 │\n",
      "│ 9   │ se+rq                          │ 1737.77 │\n",
      "│ 10  │ se+se2+rq                      │ 2099.03 │"
     ]
    }
   ],
   "source": [
    "knames = sort(collect(keys(kerns)))\n",
    "times = [time(results[k][\"mll_and_dmll\"])/10^6 for k in knames]\n",
    "\n",
    "df = DataFrame(kernel = knames, times=times)\n",
    "print(df)"
   ]
  },
  {
   "cell_type": "code",
   "execution_count": 4,
   "metadata": {},
   "outputs": [
    {
     "name": "stderr",
     "output_type": "stream",
     "text": [
      "\u001b[1m\u001b[33mWARNING: \u001b[39m\u001b[22m\u001b[33mwritetable is deprecated, use CSV.write from the CSV package instead\u001b[39m\n",
      "Stacktrace:\n",
      " [1] \u001b[1mdepwarn\u001b[22m\u001b[22m\u001b[1m(\u001b[22m\u001b[22m::String, ::Symbol\u001b[1m)\u001b[22m\u001b[22m at \u001b[1m./deprecated.jl:70\u001b[22m\u001b[22m\n",
      " [2] \u001b[1m#writetable#223\u001b[22m\u001b[22m\u001b[1m(\u001b[22m\u001b[22m::Bool, ::Char, ::Char, ::String, ::Bool, ::Function, ::String, ::DataFrames.DataFrame\u001b[1m)\u001b[22m\u001b[22m at \u001b[1m/Users/imolk/Library/Julia/packages_experimental/v0.6/DataFrames/src/deprecated.jl:69\u001b[22m\u001b[22m\n",
      " [3] \u001b[1m(::DataFrames.#kw##writetable)\u001b[22m\u001b[22m\u001b[1m(\u001b[22m\u001b[22m::Array{Any,1}, ::DataFrames.#writetable, ::String, ::DataFrames.DataFrame\u001b[1m)\u001b[22m\u001b[22m at \u001b[1m./<missing>:0\u001b[22m\u001b[22m\n",
      " [4] \u001b[1minclude_string\u001b[22m\u001b[22m\u001b[1m(\u001b[22m\u001b[22m::String, ::String\u001b[1m)\u001b[22m\u001b[22m at \u001b[1m/Users/imolk/bin/julia_v0.6.2_binary/lib/julia/sys.dylib:?\u001b[22m\u001b[22m\n",
      " [5] \u001b[1mexecute_request\u001b[22m\u001b[22m\u001b[1m(\u001b[22m\u001b[22m::ZMQ.Socket, ::IJulia.Msg\u001b[1m)\u001b[22m\u001b[22m at \u001b[1m/Users/imolk/Library/Julia/packages_experimental/v0.6/IJulia/src/execute_request.jl:158\u001b[22m\u001b[22m\n",
      " [6] \u001b[1m(::Compat.#inner#18{Array{Any,1},IJulia.#execute_request,Tuple{ZMQ.Socket,IJulia.Msg}})\u001b[22m\u001b[22m\u001b[1m(\u001b[22m\u001b[22m\u001b[1m)\u001b[22m\u001b[22m at \u001b[1m/Users/imolk/Library/Julia/packages_experimental/v0.6/Compat/src/Compat.jl:386\u001b[22m\u001b[22m\n",
      " [7] \u001b[1meventloop\u001b[22m\u001b[22m\u001b[1m(\u001b[22m\u001b[22m::ZMQ.Socket\u001b[1m)\u001b[22m\u001b[22m at \u001b[1m/Users/imolk/Library/Julia/packages_experimental/v0.6/IJulia/src/eventloop.jl:8\u001b[22m\u001b[22m\n",
      " [8] \u001b[1m(::IJulia.##14#17)\u001b[22m\u001b[22m\u001b[1m(\u001b[22m\u001b[22m\u001b[1m)\u001b[22m\u001b[22m at \u001b[1m./task.jl:335\u001b[22m\u001b[22m\n",
      "while loading In[4], in expression starting on line 1\n"
     ]
    }
   ],
   "source": [
    "writetable(\"bench_results/GaussianProcesses_jl.csv\", df, header=false)"
   ]
  },
  {
   "cell_type": "markdown",
   "metadata": {},
   "source": [
    "# Profile `update_mll_and_dmll!`"
   ]
  },
  {
   "cell_type": "code",
   "execution_count": 5,
   "metadata": {},
   "outputs": [
    {
     "name": "stderr",
     "output_type": "stream",
     "text": [
      "\u001b[1m\u001b[33mWARNING: \u001b[39m\u001b[22m\u001b[33mwritetable is deprecated, use CSV.write from the CSV package instead\u001b[39m\n",
      "Stacktrace:\n",
      " [1] \u001b[1mdepwarn\u001b[22m\u001b[22m\u001b[1m(\u001b[22m\u001b[22m::String, ::Symbol\u001b[1m)\u001b[22m\u001b[22m at \u001b[1m./deprecated.jl:70\u001b[22m\u001b[22m\n",
      " [2] \u001b[1m#writetable#223\u001b[22m\u001b[22m\u001b[1m(\u001b[22m\u001b[22m::Bool, ::Char, ::Char, ::String, ::Bool, ::Function, ::String, ::DataFrames.DataFrame\u001b[1m)\u001b[22m\u001b[22m at \u001b[1m/Users/imolk/Library/Julia/packages_experimental/v0.6/DataFrames/src/deprecated.jl:69\u001b[22m\u001b[22m\n",
      " [3] \u001b[1m(::DataFrames.#kw##writetable)\u001b[22m\u001b[22m\u001b[1m(\u001b[22m\u001b[22m::Array{Any,1}, ::DataFrames.#writetable, ::String, ::DataFrames.DataFrame\u001b[1m)\u001b[22m\u001b[22m at \u001b[1m./<missing>:0\u001b[22m\u001b[22m\n",
      " [4] \u001b[1minclude_string\u001b[22m\u001b[22m\u001b[1m(\u001b[22m\u001b[22m::String, ::String\u001b[1m)\u001b[22m\u001b[22m at \u001b[1m/Users/imolk/bin/julia_v0.6.2_binary/lib/julia/sys.dylib:?\u001b[22m\u001b[22m\n",
      " [5] \u001b[1mexecute_request\u001b[22m\u001b[22m\u001b[1m(\u001b[22m\u001b[22m::ZMQ.Socket, ::IJulia.Msg\u001b[1m)\u001b[22m\u001b[22m at \u001b[1m/Users/imolk/Library/Julia/packages_experimental/v0.6/IJulia/src/execute_request.jl:158\u001b[22m\u001b[22m\n",
      " [6] \u001b[1m(::Compat.#inner#18{Array{Any,1},IJulia.#execute_request,Tuple{ZMQ.Socket,IJulia.Msg}})\u001b[22m\u001b[22m\u001b[1m(\u001b[22m\u001b[22m\u001b[1m)\u001b[22m\u001b[22m at \u001b[1m/Users/imolk/Library/Julia/packages_experimental/v0.6/Compat/src/Compat.jl:386\u001b[22m\u001b[22m\n",
      " [7] \u001b[1meventloop\u001b[22m\u001b[22m\u001b[1m(\u001b[22m\u001b[22m::ZMQ.Socket\u001b[1m)\u001b[22m\u001b[22m at \u001b[1m/Users/imolk/Library/Julia/packages_experimental/v0.6/IJulia/src/eventloop.jl:8\u001b[22m\u001b[22m\n",
      " [8] \u001b[1m(::IJulia.##14#17)\u001b[22m\u001b[22m\u001b[1m(\u001b[22m\u001b[22m\u001b[1m)\u001b[22m\u001b[22m at \u001b[1m./task.jl:335\u001b[22m\u001b[22m\n",
      "while loading In[5], in expression starting on line 7\n"
     ]
    }
   ],
   "source": [
    "srand(1)\n",
    "X = randn(d, nt) # Training data\n",
    "Y = randn(nt)\n",
    "XY_df = DataFrame(X')\n",
    "XY_df[:Y] = Y\n",
    "XY_df\n",
    "writetable(\"simdata.csv\", XY_df, header=true)"
   ]
  },
  {
   "cell_type": "code",
   "execution_count": 6,
   "metadata": {},
   "outputs": [
    {
     "data": {
      "text/plain": [
       "(-4536.259909444878, [-689.634, -15.7312, 71.1964, -667.268])"
      ]
     },
     "execution_count": 6,
     "metadata": {},
     "output_type": "execute_result"
    }
   ],
   "source": [
    "buf1=Array{Float64}(nt,nt)\n",
    "buf2=Array{Float64}(nt,nt)\n",
    "gp = GPE(X, Y, MeanConst(0.0), kerns[\"se\"], log(1.0))\n",
    "update_mll_and_dmll!(gp, buf1, buf2)\n",
    "gp.mll, gp.dmll # SE kernel"
   ]
  },
  {
   "cell_type": "code",
   "execution_count": 7,
   "metadata": {},
   "outputs": [],
   "source": [
    "buf1=Array{Float64}(nt,nt)\n",
    "buf2=Array{Float64}(nt,nt)\n",
    "gp = GPE(X, Y, MeanConst(0.0), kerns[\"rq\"], log(1.0))\n",
    "Profile.clear()\n",
    "update_mll_and_dmll!(gp, buf1, buf2)\n",
    "@profile update_mll_and_dmll!(gp, buf1, buf2)\n",
    "@profile update_mll_and_dmll!(gp, buf1, buf2)"
   ]
  },
  {
   "cell_type": "code",
   "execution_count": 8,
   "metadata": {},
   "outputs": [
    {
     "name": "stdout",
     "output_type": "stream",
     "text": [
      "566 ./task.jl:335; (::IJulia.##14#17)()\n",
      " 566 ...Julia/src/eventloop.jl:8; eventloop(::ZMQ.Socket)\n",
      "  566 .../Compat/src/Compat.jl:386; (::Compat.#inner#18{Array{Any,1}...\n",
      "   565 ...rc/execute_request.jl:158; execute_request(::ZMQ.Socket, ::...\n",
      "    565 ...y/lib/julia/sys.dylib:?; include_string(::String, ::String)\n",
      "     564 ./<missing>:?; anonymous\n",
      "      564 ./profile.jl:23; macro expansion\n",
      "       564 ...rocesses/src/GPE.jl:209; update_mll_and_dmll!(::Gaussi...\n",
      "        130 ...rocesses/src/GPE.jl:209; #update_mll_and_dmll!#95(::Ar...\n",
      "         130 ...ocesses/src/GPE.jl:156; #update_mll!#93(::Bool, ::Bo...\n",
      "          106 ...ocesses/src/GPE.jl:141; update_cK!(::GaussianProces...\n",
      "           106 ...nels/stationary.jl:89; cov!(::Array{Float64,2}, ::...\n",
      "            95 ...nels/stationary.jl:82; cov!(::Array{Float64,2}, ::...\n",
      "             64 ...rnels/distance.jl:39; distij\n",
      "              64 ...rnels/distance.jl:24; _SqEuclidean_ij\n",
      "               11 ./simdloop.jl:71; macro expansion\n",
      "               40 ./simdloop.jl:73; macro expansion\n",
      "                40 ...nels/distance.jl:25; macro expansion\n",
      "                 12 ...nels/distance.jl:20; _SqEuclidean_ijk\n",
      "             10 ...kernels/rq_iso.jl:0; cov(::GaussianProcesses.RQI...\n",
      "             12 ...kernels/rq_iso.jl:30; cov(::GaussianProcesses.RQI...\n",
      "          23  ...ocesses/src/GPE.jl:148; update_cK!(::GaussianProces...\n",
      "           23 ./linalg/cholesky.jl:252; cholfact!(::Symmetric{Float...\n",
      "            23 ./linalg/cholesky.jl:218; cholfact!(::Symmetric{Float...\n",
      "             23 ./linalg/cholesky.jl:54; _chol!(::Array{Float64,2}, ...\n",
      "              23 ...b/julia/sys.dylib:?; potrf!(::Char, ::Array{Floa...\n",
      "        434 ...rocesses/src/GPE.jl:210; #update_mll_and_dmll!#95(::Ar...\n",
      "         18  ...ocesses/src/GPE.jl:180; #update_dmll!#94(::Bool, ::B...\n",
      "          12 ...ocesses/src/GPE.jl:115; get_ααinvcKI!(::Array{Floa...\n",
      "           11 ./array.jl:228; fill!(::Array{Float64,2}, :...\n",
      "         368 ...ocesses/src/GPE.jl:197; #update_dmll!#94(::Bool, ::B...\n",
      "          366 ...kernels/kernels.jl:106; grad_slice!(::Array{Float64...\n",
      "           365 ./simdloop.jl:73; macro expansion\n",
      "            354 ...ernels/kernels.jl:107; macro expansion\n",
      "             346 ...els/stationary.jl:165; dKij_dθp\n",
      "              22  ...kernels/rq_iso.jl:39; dk_dθp\n",
      "               20 ...kernels/rq_iso.jl:32; dk_dll\n",
      "              32  ...kernels/rq_iso.jl:41; dk_dθp\n",
      "               26 ...ls/stationary.jl:133; dk_dlσ\n",
      "                18 ...ernels/rq_iso.jl:30; cov(::GaussianProcesses.R...\n",
      "                 10 ./math.jl:699; ^\n",
      "              154 ...kernels/rq_iso.jl:43; dk_dθp\n",
      "               11  ./math.jl:300; dk_dlα\n",
      "               10  ...ernels/rq_iso.jl:34; dk_dlα\n",
      "               116 ...ernels/rq_iso.jl:35; dk_dlα\n",
      "                107 ./math.jl:419; log\n",
      "            11  ...ernels/kernels.jl:108; macro expansion\n",
      "         48  ...ocesses/src/GPE.jl:198; #update_dmll!#94(::Bool, ::B...\n",
      "          48 ./linalg/blas.jl:313; dot(::Array{Float64,2}, ::Ar...\n"
     ]
    }
   ],
   "source": [
    "Profile.print(mincount=10)"
   ]
  }
 ],
 "metadata": {
  "hide_input": false,
  "hide_markdown_input": false,
  "kernelspec": {
   "display_name": "Julia 0.6.2 Experimental",
   "language": "julia",
   "name": "julia-0.6-experimental"
  },
  "language_info": {
   "file_extension": ".jl",
   "mimetype": "application/julia",
   "name": "julia",
   "version": "0.6.2"
  },
  "toc": {
   "nav_menu": {},
   "number_sections": true,
   "sideBar": true,
   "skip_h1_title": false,
   "title_cell": "Table of Contents",
   "title_sidebar": "Contents",
   "toc_cell": false,
   "toc_position": {},
   "toc_section_display": true,
   "toc_window_display": true
  }
 },
 "nbformat": 4,
 "nbformat_minor": 2
}
